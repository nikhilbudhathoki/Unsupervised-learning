{
 "cells": [
  {
   "cell_type": "markdown",
   "id": "0b7f594c-6f36-4002-8ecf-569aed7ceb2f",
   "metadata": {},
   "source": [
    "### IT IS THE CLUSTTERING OF DATA POINTS BY MAKING GROUPS BASED ON THE SIMILARITIES OF THE DATA POINTS"
   ]
  },
  {
   "cell_type": "markdown",
   "id": "22e67c5d-3efd-40b7-b6b2-e859c0b36aef",
   "metadata": {},
   "source": [
    "### POINTS THAT ARE NEAREST TO CENTROID IS GOING TO GROUP OF THAT CENTROID AND ANOTHER FOR OTHER CENTROID BY DRAWING PERPENDICULAR"
   ]
  },
  {
   "cell_type": "markdown",
   "id": "97662431-8173-4748-9cfb-2c9aca74ed6a",
   "metadata": {},
   "source": [
    "### AFTER CLCULATING THE MEAN OF EACH CLUSTER DATA OF EACH CENROID THEN WE SHIFT THE CENTROID TO THE MEAN POSITION OF EACH CLUSTER"
   ]
  },
  {
   "cell_type": "markdown",
   "id": "c82c1bac-4ffb-4a27-9400-cb5d616a9a61",
   "metadata": {},
   "source": [
    "### THEN AGAIN WE SEE IF DATA POINTS IS NEARER TO CENTROID AND MAKE THE CLUSTER AGAIN BY DRAWING PERPENDICULAR LINE"
   ]
  },
  {
   "cell_type": "markdown",
   "id": "50c12b9c-9286-47e4-8582-6c7501d95fba",
   "metadata": {},
   "source": [
    "### AGAIN WE CALCULATE MEAN AND DISPLACE THE CENTROID"
   ]
  },
  {
   "cell_type": "markdown",
   "id": "14574901-a9c7-4baf-8e12-aafc5baed903",
   "metadata": {},
   "source": [
    "### WE DO IT AGAIN AND AGAIN UNTIL THERE IS NO DIFFERENT DATA POINT IN DIFFERENT CENTROID LINE"
   ]
  },
  {
   "cell_type": "markdown",
   "id": "b0218191-8771-4bcb-bbae-82656d032037",
   "metadata": {},
   "source": [
    "### AFTER GETTING THAT WE GET DIFFERENT CLUSTERS"
   ]
  },
  {
   "cell_type": "code",
   "execution_count": null,
   "id": "51de8abd-e9b8-44e8-8bf4-836305108394",
   "metadata": {},
   "outputs": [],
   "source": []
  },
  {
   "cell_type": "markdown",
   "id": "52d84dc6-8fbb-4ae5-a76c-cf187d812369",
   "metadata": {},
   "source": [
    "### HOW TO KNOW K VALUE"
   ]
  },
  {
   "cell_type": "markdown",
   "id": "905ada1d-670d-45de-bc75-26e9ac2d889d",
   "metadata": {},
   "source": [
    "### WCSS:WITHIN CLUSTER SUM OF SQUARES"
   ]
  },
  {
   "cell_type": "markdown",
   "id": "0ba5e4cc-4409-4849-a011-4075b34e04a1",
   "metadata": {},
   "source": [
    "### WCSS IS SQUARE OF SUM OF DISTANCE TO THE CENTROUD FROM ALL DATA POINTS"
   ]
  },
  {
   "cell_type": "markdown",
   "id": "9bc7c0f0-718b-45b1-92db-3211be4e7f2a",
   "metadata": {},
   "source": [
    "### WHEN K=1 IT IS SQUARE OF SUM OF ALL DATA POINTS TO THE CENTROID BUT WHEN K=2 IT WILL DIVIDE THE DATA POINTS WITH THEIR NEAREST DATA POINTS"
   ]
  },
  {
   "cell_type": "markdown",
   "id": "1da09506-21ad-4521-a3e0-0cdbb6baa78b",
   "metadata": {},
   "source": [
    "### SO MORE K VALUE LESS WCSS "
   ]
  },
  {
   "cell_type": "markdown",
   "id": "efadf84e-8bce-41de-be55-c8a5190d0a7f",
   "metadata": {},
   "source": [
    "#### AFTER CERTAIN K VALUE AFTER GRAPH WILL BE SAME WHICH IS ELBOW SO WE HAVE TO FIND THAT ELBOW"
   ]
  },
  {
   "cell_type": "markdown",
   "id": "53bca382-30b5-4916-b140-ac7624b81513",
   "metadata": {},
   "source": [
    "### EUCLIDIAN DISTANCE:DISTANCE FORMULA"
   ]
  },
  {
   "cell_type": "markdown",
   "id": "fb8bb225-5560-43bf-b41d-b705a644cdcf",
   "metadata": {},
   "source": [
    "### MANHATTAN DISTANCE:|X2-X1|+|Y2-Y1|"
   ]
  },
  {
   "cell_type": "markdown",
   "id": "45501948-d02f-43e8-a0ab-fec62ba55664",
   "metadata": {},
   "source": [
    "### RANDOM INITIALIZATION TRAP(K MEANS++):SYSTEM MAKES WRONG CLUSTER .IT MAKES RANDOM GROUPS WHERE SOME CLUSTER HAS LARGE DATA BUT SOME HAS SMALL"
   ]
  },
  {
   "cell_type": "markdown",
   "id": "0f7b8372-6a25-4509-8a7e-9cf5ac9a6af4",
   "metadata": {},
   "source": [
    "### k means technique: in this centroid are innitialized far from datapoints which will make sure to make equal size cluster"
   ]
  },
  {
   "cell_type": "code",
   "execution_count": null,
   "id": "f138bd78-989f-4871-b13b-3de3c0d423ae",
   "metadata": {},
   "outputs": [],
   "source": []
  }
 ],
 "metadata": {
  "kernelspec": {
   "display_name": "Python 3 (ipykernel)",
   "language": "python",
   "name": "python3"
  },
  "language_info": {
   "codemirror_mode": {
    "name": "ipython",
    "version": 3
   },
   "file_extension": ".py",
   "mimetype": "text/x-python",
   "name": "python",
   "nbconvert_exporter": "python",
   "pygments_lexer": "ipython3",
   "version": "3.11.7"
  }
 },
 "nbformat": 4,
 "nbformat_minor": 5
}
