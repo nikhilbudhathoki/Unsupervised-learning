{
 "cells": [
  {
   "cell_type": "markdown",
   "id": "50f8a5f4-aa36-4050-ada3-55655f832d32",
   "metadata": {},
   "source": [
    "### Sihouette scoring"
   ]
  },
  {
   "cell_type": "markdown",
   "id": "9e8bff33-2ff7-4b0d-bda8-998100f7a50e",
   "metadata": {},
   "source": [
    "### It is measuring of accurate cluster that are made "
   ]
  },
  {
   "cell_type": "markdown",
   "id": "449f5e2c-6307-478f-958d-b78061d7069b",
   "metadata": {},
   "source": [
    "### value relies from -1 to 1"
   ]
  },
  {
   "cell_type": "markdown",
   "id": "39d029ca-4936-41b8-94f8-ef6e4f4fdcc3",
   "metadata": {},
   "source": [
    "#### if ai>bi negestive means bad cluster"
   ]
  },
  {
   "cell_type": "markdown",
   "id": "f63f79ea-fc92-43b4-adad-8b498558cc0f",
   "metadata": {},
   "source": [
    "### bi greater is positive good cluster "
   ]
  },
  {
   "cell_type": "code",
   "execution_count": null,
   "id": "6282d538-ab92-4471-8b7b-d02798e1f788",
   "metadata": {},
   "outputs": [],
   "source": []
  }
 ],
 "metadata": {
  "kernelspec": {
   "display_name": "Python 3 (ipykernel)",
   "language": "python",
   "name": "python3"
  },
  "language_info": {
   "codemirror_mode": {
    "name": "ipython",
    "version": 3
   },
   "file_extension": ".py",
   "mimetype": "text/x-python",
   "name": "python",
   "nbconvert_exporter": "python",
   "pygments_lexer": "ipython3",
   "version": "3.11.7"
  }
 },
 "nbformat": 4,
 "nbformat_minor": 5
}
