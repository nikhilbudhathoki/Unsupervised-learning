{
 "cells": [
  {
   "cell_type": "markdown",
   "id": "4d8fa184-b8a3-41ca-a31b-21cf57aeae29",
   "metadata": {},
   "source": [
    "### Huge datasets require k means algorithm because we have to make a seperate clustor for each dataset ini hirarechal"
   ]
  },
  {
   "cell_type": "markdown",
   "id": "088eed0c-816e-4a68-8d9b-eca29320e289",
   "metadata": {},
   "source": [
    "### hirarechal algo is used when data varies1"
   ]
  },
  {
   "cell_type": "markdown",
   "id": "64cffba3-f39a-41c6-ab8b-e2e7142f2423",
   "metadata": {},
   "source": [
    "### cosine similarity:to see how 2 data points are closely related"
   ]
  },
  {
   "cell_type": "code",
   "execution_count": null,
   "id": "aacfa522-3ce1-48a5-bb1c-b07f5354ce35",
   "metadata": {},
   "outputs": [],
   "source": []
  }
 ],
 "metadata": {
  "kernelspec": {
   "display_name": "Python 3 (ipykernel)",
   "language": "python",
   "name": "python3"
  },
  "language_info": {
   "codemirror_mode": {
    "name": "ipython",
    "version": 3
   },
   "file_extension": ".py",
   "mimetype": "text/x-python",
   "name": "python",
   "nbconvert_exporter": "python",
   "pygments_lexer": "ipython3",
   "version": "3.11.7"
  }
 },
 "nbformat": 4,
 "nbformat_minor": 5
}
